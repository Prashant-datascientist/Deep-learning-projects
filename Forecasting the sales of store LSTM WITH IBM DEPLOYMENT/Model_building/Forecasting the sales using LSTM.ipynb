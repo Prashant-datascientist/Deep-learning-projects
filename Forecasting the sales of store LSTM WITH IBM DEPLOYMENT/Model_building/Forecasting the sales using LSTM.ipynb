{
 "cells": [
  {
   "cell_type": "markdown",
   "metadata": {},
   "source": [
    "# Forecasting the sales of store using LSTM"
   ]
  },
  {
   "cell_type": "raw",
   "metadata": {},
   "source": [
    "1.we will collect the data\n",
    "2.preprocess the data\n",
    "3.create an LSTM model\n",
    "4.predict the test data and plot the output\n",
    "5.predict the future 10 days "
   ]
  },
  {
   "cell_type": "raw",
   "metadata": {},
   "source": []
  },
  {
   "cell_type": "markdown",
   "metadata": {},
   "source": [
    "### importing necessary libraries"
   ]
  },
  {
   "cell_type": "code",
   "execution_count": 1,
   "metadata": {},
   "outputs": [],
   "source": [
    "import pandas as pd #Reading the dataset\n",
    "import numpy as np #numerical calculations\n",
    "import matplotlib.pyplot as plt #for data visualization\n",
    "import statsmodels.api as sm #statistical data exploration"
   ]
  },
  {
   "cell_type": "markdown",
   "metadata": {},
   "source": [
    "# Importing dataset\n",
    "1.Since data is in form of excel file we have to use pandas read_excel to load the data\n",
    "2.After loading it is important to check the complete information of data as it can indication many of the hidden infomation such as null values in a column or a row\n",
    "3.Check whether any null values are there or not. if it is present then following can be done, a.Imputing data using Imputation method in sklearn b.Filling NaN values with mean, median and mode using fillna() method\n",
    "4.Describe data --> which can give statistical analysis"
   ]
  },
  {
   "cell_type": "code",
   "execution_count": 2,
   "metadata": {},
   "outputs": [],
   "source": [
    "data=pd.read_excel(r\"C:\\\\Users\\prash\\Desktop\\VEC Modified projects\\SElF\\Forecasting the sales of store\\Forecasting the sales of store\\dataset\\Sales_Forecasting.xlsx\")"
   ]
  },
  {
   "cell_type": "code",
   "execution_count": 3,
   "metadata": {},
   "outputs": [
    {
     "data": {
      "text/html": [
       "<div>\n",
       "<style scoped>\n",
       "    .dataframe tbody tr th:only-of-type {\n",
       "        vertical-align: middle;\n",
       "    }\n",
       "\n",
       "    .dataframe tbody tr th {\n",
       "        vertical-align: top;\n",
       "    }\n",
       "\n",
       "    .dataframe thead th {\n",
       "        text-align: right;\n",
       "    }\n",
       "</style>\n",
       "<table border=\"1\" class=\"dataframe\">\n",
       "  <thead>\n",
       "    <tr style=\"text-align: right;\">\n",
       "      <th></th>\n",
       "      <th>HQ</th>\n",
       "      <th>Country</th>\n",
       "      <th>State_of_outlet</th>\n",
       "      <th>City_of_outlet</th>\n",
       "      <th>Month</th>\n",
       "      <th>Day</th>\n",
       "      <th>Year</th>\n",
       "      <th>Total_Sales</th>\n",
       "    </tr>\n",
       "  </thead>\n",
       "  <tbody>\n",
       "    <tr>\n",
       "      <th>0</th>\n",
       "      <td>Asia</td>\n",
       "      <td>India</td>\n",
       "      <td>NaN</td>\n",
       "      <td>Bombay (Mumbai)</td>\n",
       "      <td>1</td>\n",
       "      <td>1</td>\n",
       "      <td>2005</td>\n",
       "      <td>72.2</td>\n",
       "    </tr>\n",
       "    <tr>\n",
       "      <th>1</th>\n",
       "      <td>Asia</td>\n",
       "      <td>India</td>\n",
       "      <td>NaN</td>\n",
       "      <td>Bombay (Mumbai)</td>\n",
       "      <td>1</td>\n",
       "      <td>2</td>\n",
       "      <td>2005</td>\n",
       "      <td>72.7</td>\n",
       "    </tr>\n",
       "    <tr>\n",
       "      <th>2</th>\n",
       "      <td>Asia</td>\n",
       "      <td>India</td>\n",
       "      <td>NaN</td>\n",
       "      <td>Bombay (Mumbai)</td>\n",
       "      <td>1</td>\n",
       "      <td>3</td>\n",
       "      <td>2005</td>\n",
       "      <td>74.3</td>\n",
       "    </tr>\n",
       "    <tr>\n",
       "      <th>3</th>\n",
       "      <td>Asia</td>\n",
       "      <td>India</td>\n",
       "      <td>NaN</td>\n",
       "      <td>Bombay (Mumbai)</td>\n",
       "      <td>1</td>\n",
       "      <td>4</td>\n",
       "      <td>2005</td>\n",
       "      <td>78.9</td>\n",
       "    </tr>\n",
       "    <tr>\n",
       "      <th>4</th>\n",
       "      <td>Asia</td>\n",
       "      <td>India</td>\n",
       "      <td>NaN</td>\n",
       "      <td>Bombay (Mumbai)</td>\n",
       "      <td>1</td>\n",
       "      <td>5</td>\n",
       "      <td>2005</td>\n",
       "      <td>81.5</td>\n",
       "    </tr>\n",
       "  </tbody>\n",
       "</table>\n",
       "</div>"
      ],
      "text/plain": [
       "     HQ Country  State_of_outlet   City_of_outlet  Month  Day  Year  \\\n",
       "0  Asia   India              NaN  Bombay (Mumbai)      1    1  2005   \n",
       "1  Asia   India              NaN  Bombay (Mumbai)      1    2  2005   \n",
       "2  Asia   India              NaN  Bombay (Mumbai)      1    3  2005   \n",
       "3  Asia   India              NaN  Bombay (Mumbai)      1    4  2005   \n",
       "4  Asia   India              NaN  Bombay (Mumbai)      1    5  2005   \n",
       "\n",
       "   Total_Sales  \n",
       "0         72.2  \n",
       "1         72.7  \n",
       "2         74.3  \n",
       "3         78.9  \n",
       "4         81.5  "
      ]
     },
     "execution_count": 3,
     "metadata": {},
     "output_type": "execute_result"
    }
   ],
   "source": [
    "#head() method is used to return top n (5 by default) rows of a DataFrame or series.\n",
    "data.head()"
   ]
  },
  {
   "cell_type": "code",
   "execution_count": 4,
   "metadata": {
    "scrolled": true
   },
   "outputs": [
    {
     "data": {
      "text/html": [
       "<div>\n",
       "<style scoped>\n",
       "    .dataframe tbody tr th:only-of-type {\n",
       "        vertical-align: middle;\n",
       "    }\n",
       "\n",
       "    .dataframe tbody tr th {\n",
       "        vertical-align: top;\n",
       "    }\n",
       "\n",
       "    .dataframe thead th {\n",
       "        text-align: right;\n",
       "    }\n",
       "</style>\n",
       "<table border=\"1\" class=\"dataframe\">\n",
       "  <thead>\n",
       "    <tr style=\"text-align: right;\">\n",
       "      <th></th>\n",
       "      <th>HQ</th>\n",
       "      <th>Country</th>\n",
       "      <th>State_of_outlet</th>\n",
       "      <th>City_of_outlet</th>\n",
       "      <th>Month</th>\n",
       "      <th>Day</th>\n",
       "      <th>Year</th>\n",
       "      <th>Total_Sales</th>\n",
       "    </tr>\n",
       "  </thead>\n",
       "  <tbody>\n",
       "    <tr>\n",
       "      <th>17531</th>\n",
       "      <td>Asia</td>\n",
       "      <td>India</td>\n",
       "      <td>NaN</td>\n",
       "      <td>Delhi</td>\n",
       "      <td>12</td>\n",
       "      <td>27</td>\n",
       "      <td>2016</td>\n",
       "      <td>61.3</td>\n",
       "    </tr>\n",
       "    <tr>\n",
       "      <th>17532</th>\n",
       "      <td>Asia</td>\n",
       "      <td>India</td>\n",
       "      <td>NaN</td>\n",
       "      <td>Delhi</td>\n",
       "      <td>12</td>\n",
       "      <td>28</td>\n",
       "      <td>2016</td>\n",
       "      <td>61.7</td>\n",
       "    </tr>\n",
       "    <tr>\n",
       "      <th>17533</th>\n",
       "      <td>Asia</td>\n",
       "      <td>India</td>\n",
       "      <td>NaN</td>\n",
       "      <td>Delhi</td>\n",
       "      <td>12</td>\n",
       "      <td>29</td>\n",
       "      <td>2016</td>\n",
       "      <td>59.3</td>\n",
       "    </tr>\n",
       "    <tr>\n",
       "      <th>17534</th>\n",
       "      <td>Asia</td>\n",
       "      <td>India</td>\n",
       "      <td>NaN</td>\n",
       "      <td>Delhi</td>\n",
       "      <td>12</td>\n",
       "      <td>30</td>\n",
       "      <td>2016</td>\n",
       "      <td>57.1</td>\n",
       "    </tr>\n",
       "    <tr>\n",
       "      <th>17535</th>\n",
       "      <td>Asia</td>\n",
       "      <td>India</td>\n",
       "      <td>NaN</td>\n",
       "      <td>Delhi</td>\n",
       "      <td>12</td>\n",
       "      <td>31</td>\n",
       "      <td>2016</td>\n",
       "      <td>58.3</td>\n",
       "    </tr>\n",
       "  </tbody>\n",
       "</table>\n",
       "</div>"
      ],
      "text/plain": [
       "         HQ Country  State_of_outlet City_of_outlet  Month  Day  Year  \\\n",
       "17531  Asia   India              NaN          Delhi     12   27  2016   \n",
       "17532  Asia   India              NaN          Delhi     12   28  2016   \n",
       "17533  Asia   India              NaN          Delhi     12   29  2016   \n",
       "17534  Asia   India              NaN          Delhi     12   30  2016   \n",
       "17535  Asia   India              NaN          Delhi     12   31  2016   \n",
       "\n",
       "       Total_Sales  \n",
       "17531         61.3  \n",
       "17532         61.7  \n",
       "17533         59.3  \n",
       "17534         57.1  \n",
       "17535         58.3  "
      ]
     },
     "execution_count": 4,
     "metadata": {},
     "output_type": "execute_result"
    }
   ],
   "source": [
    "#tail() method is used to return bottom n (5 by default) rows of a DataFrame or series.\n",
    "data.tail()"
   ]
  },
  {
   "cell_type": "code",
   "execution_count": 5,
   "metadata": {},
   "outputs": [
    {
     "data": {
      "text/html": [
       "<div>\n",
       "<style scoped>\n",
       "    .dataframe tbody tr th:only-of-type {\n",
       "        vertical-align: middle;\n",
       "    }\n",
       "\n",
       "    .dataframe tbody tr th {\n",
       "        vertical-align: top;\n",
       "    }\n",
       "\n",
       "    .dataframe thead th {\n",
       "        text-align: right;\n",
       "    }\n",
       "</style>\n",
       "<table border=\"1\" class=\"dataframe\">\n",
       "  <thead>\n",
       "    <tr style=\"text-align: right;\">\n",
       "      <th></th>\n",
       "      <th>State_of_outlet</th>\n",
       "      <th>Month</th>\n",
       "      <th>Day</th>\n",
       "      <th>Year</th>\n",
       "      <th>Total_Sales</th>\n",
       "    </tr>\n",
       "  </thead>\n",
       "  <tbody>\n",
       "    <tr>\n",
       "      <th>count</th>\n",
       "      <td>0.0</td>\n",
       "      <td>17536.000000</td>\n",
       "      <td>17536.000000</td>\n",
       "      <td>17536.000000</td>\n",
       "      <td>17536.000000</td>\n",
       "    </tr>\n",
       "    <tr>\n",
       "      <th>mean</th>\n",
       "      <td>NaN</td>\n",
       "      <td>6.524179</td>\n",
       "      <td>15.732892</td>\n",
       "      <td>2010.502053</td>\n",
       "      <td>80.117963</td>\n",
       "    </tr>\n",
       "    <tr>\n",
       "      <th>std</th>\n",
       "      <td>NaN</td>\n",
       "      <td>3.449400</td>\n",
       "      <td>8.801978</td>\n",
       "      <td>3.452525</td>\n",
       "      <td>13.315486</td>\n",
       "    </tr>\n",
       "    <tr>\n",
       "      <th>min</th>\n",
       "      <td>NaN</td>\n",
       "      <td>1.000000</td>\n",
       "      <td>1.000000</td>\n",
       "      <td>2005.000000</td>\n",
       "      <td>-99.000000</td>\n",
       "    </tr>\n",
       "    <tr>\n",
       "      <th>25%</th>\n",
       "      <td>NaN</td>\n",
       "      <td>4.000000</td>\n",
       "      <td>8.000000</td>\n",
       "      <td>2008.000000</td>\n",
       "      <td>77.500000</td>\n",
       "    </tr>\n",
       "    <tr>\n",
       "      <th>50%</th>\n",
       "      <td>NaN</td>\n",
       "      <td>7.000000</td>\n",
       "      <td>16.000000</td>\n",
       "      <td>2011.000000</td>\n",
       "      <td>82.600000</td>\n",
       "    </tr>\n",
       "    <tr>\n",
       "      <th>75%</th>\n",
       "      <td>NaN</td>\n",
       "      <td>10.000000</td>\n",
       "      <td>23.000000</td>\n",
       "      <td>2014.000000</td>\n",
       "      <td>86.100000</td>\n",
       "    </tr>\n",
       "    <tr>\n",
       "      <th>max</th>\n",
       "      <td>NaN</td>\n",
       "      <td>12.000000</td>\n",
       "      <td>31.000000</td>\n",
       "      <td>2016.000000</td>\n",
       "      <td>102.500000</td>\n",
       "    </tr>\n",
       "  </tbody>\n",
       "</table>\n",
       "</div>"
      ],
      "text/plain": [
       "       State_of_outlet         Month           Day          Year   Total_Sales\n",
       "count              0.0  17536.000000  17536.000000  17536.000000  17536.000000\n",
       "mean               NaN      6.524179     15.732892   2010.502053     80.117963\n",
       "std                NaN      3.449400      8.801978      3.452525     13.315486\n",
       "min                NaN      1.000000      1.000000   2005.000000    -99.000000\n",
       "25%                NaN      4.000000      8.000000   2008.000000     77.500000\n",
       "50%                NaN      7.000000     16.000000   2011.000000     82.600000\n",
       "75%                NaN     10.000000     23.000000   2014.000000     86.100000\n",
       "max                NaN     12.000000     31.000000   2016.000000    102.500000"
      ]
     },
     "execution_count": 5,
     "metadata": {},
     "output_type": "execute_result"
    }
   ],
   "source": [
    "data.describe()"
   ]
  },
  {
   "cell_type": "code",
   "execution_count": 6,
   "metadata": {},
   "outputs": [
    {
     "name": "stdout",
     "output_type": "stream",
     "text": [
      "<class 'pandas.core.frame.DataFrame'>\n",
      "RangeIndex: 17536 entries, 0 to 17535\n",
      "Data columns (total 8 columns):\n",
      " #   Column           Non-Null Count  Dtype  \n",
      "---  ------           --------------  -----  \n",
      " 0   HQ               17536 non-null  object \n",
      " 1   Country          17536 non-null  object \n",
      " 2   State_of_outlet  0 non-null      float64\n",
      " 3   City_of_outlet   17536 non-null  object \n",
      " 4   Month            17536 non-null  int64  \n",
      " 5   Day              17536 non-null  int64  \n",
      " 6   Year             17536 non-null  int64  \n",
      " 7   Total_Sales      17536 non-null  float64\n",
      "dtypes: float64(2), int64(3), object(3)\n",
      "memory usage: 1.1+ MB\n"
     ]
    }
   ],
   "source": [
    "data.info()"
   ]
  },
  {
   "cell_type": "code",
   "execution_count": 7,
   "metadata": {},
   "outputs": [],
   "source": [
    "# converting month, day, year in right Date format\n",
    "from datetime import datetime\n",
    "data['Date'] = data.apply(lambda row: datetime.strptime(f\"{int(row.Year)}-{int(row.Month)}-{int(row.Day)}\", '%Y-%m-%d'), axis=1)"
   ]
  },
  {
   "cell_type": "markdown",
   "metadata": {},
   "source": [
    "Let us take a look at how many years of date is present in the datset"
   ]
  },
  {
   "cell_type": "code",
   "execution_count": 8,
   "metadata": {},
   "outputs": [
    {
     "data": {
      "text/plain": [
       "(Timestamp('2005-01-01 00:00:00'), Timestamp('2016-12-31 00:00:00'))"
      ]
     },
     "execution_count": 8,
     "metadata": {},
     "output_type": "execute_result"
    }
   ],
   "source": [
    "data['Date'].min(), data['Date'].max()"
   ]
  },
  {
   "cell_type": "markdown",
   "metadata": {},
   "source": [
    "## Data Preprocessing"
   ]
  },
  {
   "cell_type": "markdown",
   "metadata": {},
   "source": [
    "### Dropping the columns"
   ]
  },
  {
   "cell_type": "markdown",
   "metadata": {},
   "source": [
    "Let us remove the columns which are not necessary for analysis and sorting the sales values using date"
   ]
  },
  {
   "cell_type": "code",
   "execution_count": 9,
   "metadata": {},
   "outputs": [],
   "source": [
    "cols = ['Month','Day','Year','City_of_outlet','State_of_outlet','Country','HQ']\n",
    "data.drop(cols, axis=1, inplace=True)\n",
    "data = data.sort_values('Date')"
   ]
  },
  {
   "cell_type": "code",
   "execution_count": 10,
   "metadata": {},
   "outputs": [
    {
     "data": {
      "text/plain": [
       "Total_Sales     539\n",
       "Date           4383\n",
       "dtype: int64"
      ]
     },
     "execution_count": 10,
     "metadata": {},
     "output_type": "execute_result"
    }
   ],
   "source": [
    "data.nunique()"
   ]
  },
  {
   "cell_type": "markdown",
   "metadata": {},
   "source": [
    "### Checking or null values"
   ]
  },
  {
   "cell_type": "markdown",
   "metadata": {},
   "source": [
    "Let us check for null values in the dataset "
   ]
  },
  {
   "cell_type": "code",
   "execution_count": 11,
   "metadata": {},
   "outputs": [
    {
     "data": {
      "text/plain": [
       "Total_Sales    False\n",
       "Date           False\n",
       "dtype: bool"
      ]
     },
     "execution_count": 11,
     "metadata": {},
     "output_type": "execute_result"
    }
   ],
   "source": [
    "data.isnull().any()"
   ]
  },
  {
   "cell_type": "markdown",
   "metadata": {},
   "source": [
    "We can see that there are no null values in the datset"
   ]
  },
  {
   "cell_type": "code",
   "execution_count": 12,
   "metadata": {},
   "outputs": [
    {
     "data": {
      "text/html": [
       "<div>\n",
       "<style scoped>\n",
       "    .dataframe tbody tr th:only-of-type {\n",
       "        vertical-align: middle;\n",
       "    }\n",
       "\n",
       "    .dataframe tbody tr th {\n",
       "        vertical-align: top;\n",
       "    }\n",
       "\n",
       "    .dataframe thead th {\n",
       "        text-align: right;\n",
       "    }\n",
       "</style>\n",
       "<table border=\"1\" class=\"dataframe\">\n",
       "  <thead>\n",
       "    <tr style=\"text-align: right;\">\n",
       "      <th></th>\n",
       "      <th>Total_Sales</th>\n",
       "      <th>Date</th>\n",
       "    </tr>\n",
       "  </thead>\n",
       "  <tbody>\n",
       "    <tr>\n",
       "      <th>0</th>\n",
       "      <td>72.2</td>\n",
       "      <td>2005-01-01</td>\n",
       "    </tr>\n",
       "    <tr>\n",
       "      <th>730</th>\n",
       "      <td>75.8</td>\n",
       "      <td>2005-01-01</td>\n",
       "    </tr>\n",
       "    <tr>\n",
       "      <th>1095</th>\n",
       "      <td>61.0</td>\n",
       "      <td>2005-01-01</td>\n",
       "    </tr>\n",
       "    <tr>\n",
       "      <th>365</th>\n",
       "      <td>66.5</td>\n",
       "      <td>2005-01-01</td>\n",
       "    </tr>\n",
       "    <tr>\n",
       "      <th>1</th>\n",
       "      <td>72.7</td>\n",
       "      <td>2005-01-02</td>\n",
       "    </tr>\n",
       "    <tr>\n",
       "      <th>...</th>\n",
       "      <td>...</td>\n",
       "      <td>...</td>\n",
       "    </tr>\n",
       "    <tr>\n",
       "      <th>16802</th>\n",
       "      <td>67.4</td>\n",
       "      <td>2016-12-30</td>\n",
       "    </tr>\n",
       "    <tr>\n",
       "      <th>17169</th>\n",
       "      <td>76.8</td>\n",
       "      <td>2016-12-31</td>\n",
       "    </tr>\n",
       "    <tr>\n",
       "      <th>16437</th>\n",
       "      <td>79.7</td>\n",
       "      <td>2016-12-31</td>\n",
       "    </tr>\n",
       "    <tr>\n",
       "      <th>16803</th>\n",
       "      <td>67.1</td>\n",
       "      <td>2016-12-31</td>\n",
       "    </tr>\n",
       "    <tr>\n",
       "      <th>17535</th>\n",
       "      <td>58.3</td>\n",
       "      <td>2016-12-31</td>\n",
       "    </tr>\n",
       "  </tbody>\n",
       "</table>\n",
       "<p>17536 rows × 2 columns</p>\n",
       "</div>"
      ],
      "text/plain": [
       "       Total_Sales       Date\n",
       "0             72.2 2005-01-01\n",
       "730           75.8 2005-01-01\n",
       "1095          61.0 2005-01-01\n",
       "365           66.5 2005-01-01\n",
       "1             72.7 2005-01-02\n",
       "...            ...        ...\n",
       "16802         67.4 2016-12-30\n",
       "17169         76.8 2016-12-31\n",
       "16437         79.7 2016-12-31\n",
       "16803         67.1 2016-12-31\n",
       "17535         58.3 2016-12-31\n",
       "\n",
       "[17536 rows x 2 columns]"
      ]
     },
     "execution_count": 12,
     "metadata": {},
     "output_type": "execute_result"
    }
   ],
   "source": [
    "data"
   ]
  },
  {
   "cell_type": "code",
   "execution_count": 13,
   "metadata": {},
   "outputs": [
    {
     "data": {
      "text/plain": [
       "(17536, 2)"
      ]
     },
     "execution_count": 13,
     "metadata": {},
     "output_type": "execute_result"
    }
   ],
   "source": [
    "data.shape"
   ]
  },
  {
   "cell_type": "code",
   "execution_count": 14,
   "metadata": {},
   "outputs": [],
   "source": [
    "# groupby the date value to get the sales sum of each order date\n",
    "data = data.groupby('Date')['Total_Sales'].sum().reset_index()"
   ]
  },
  {
   "cell_type": "code",
   "execution_count": 15,
   "metadata": {},
   "outputs": [
    {
     "data": {
      "text/html": [
       "<div>\n",
       "<style scoped>\n",
       "    .dataframe tbody tr th:only-of-type {\n",
       "        vertical-align: middle;\n",
       "    }\n",
       "\n",
       "    .dataframe tbody tr th {\n",
       "        vertical-align: top;\n",
       "    }\n",
       "\n",
       "    .dataframe thead th {\n",
       "        text-align: right;\n",
       "    }\n",
       "</style>\n",
       "<table border=\"1\" class=\"dataframe\">\n",
       "  <thead>\n",
       "    <tr style=\"text-align: right;\">\n",
       "      <th></th>\n",
       "      <th>Date</th>\n",
       "      <th>Total_Sales</th>\n",
       "    </tr>\n",
       "  </thead>\n",
       "  <tbody>\n",
       "    <tr>\n",
       "      <th>0</th>\n",
       "      <td>2005-01-01</td>\n",
       "      <td>275.5</td>\n",
       "    </tr>\n",
       "    <tr>\n",
       "      <th>1</th>\n",
       "      <td>2005-01-02</td>\n",
       "      <td>275.5</td>\n",
       "    </tr>\n",
       "    <tr>\n",
       "      <th>2</th>\n",
       "      <td>2005-01-03</td>\n",
       "      <td>278.6</td>\n",
       "    </tr>\n",
       "    <tr>\n",
       "      <th>3</th>\n",
       "      <td>2005-01-04</td>\n",
       "      <td>279.3</td>\n",
       "    </tr>\n",
       "    <tr>\n",
       "      <th>4</th>\n",
       "      <td>2005-01-05</td>\n",
       "      <td>281.4</td>\n",
       "    </tr>\n",
       "    <tr>\n",
       "      <th>...</th>\n",
       "      <td>...</td>\n",
       "      <td>...</td>\n",
       "    </tr>\n",
       "    <tr>\n",
       "      <th>4378</th>\n",
       "      <td>2016-12-27</td>\n",
       "      <td>288.4</td>\n",
       "    </tr>\n",
       "    <tr>\n",
       "      <th>4379</th>\n",
       "      <td>2016-12-28</td>\n",
       "      <td>283.3</td>\n",
       "    </tr>\n",
       "    <tr>\n",
       "      <th>4380</th>\n",
       "      <td>2016-12-29</td>\n",
       "      <td>281.7</td>\n",
       "    </tr>\n",
       "    <tr>\n",
       "      <th>4381</th>\n",
       "      <td>2016-12-30</td>\n",
       "      <td>282.0</td>\n",
       "    </tr>\n",
       "    <tr>\n",
       "      <th>4382</th>\n",
       "      <td>2016-12-31</td>\n",
       "      <td>281.9</td>\n",
       "    </tr>\n",
       "  </tbody>\n",
       "</table>\n",
       "<p>4383 rows × 2 columns</p>\n",
       "</div>"
      ],
      "text/plain": [
       "           Date  Total_Sales\n",
       "0    2005-01-01        275.5\n",
       "1    2005-01-02        275.5\n",
       "2    2005-01-03        278.6\n",
       "3    2005-01-04        279.3\n",
       "4    2005-01-05        281.4\n",
       "...         ...          ...\n",
       "4378 2016-12-27        288.4\n",
       "4379 2016-12-28        283.3\n",
       "4380 2016-12-29        281.7\n",
       "4381 2016-12-30        282.0\n",
       "4382 2016-12-31        281.9\n",
       "\n",
       "[4383 rows x 2 columns]"
      ]
     },
     "execution_count": 15,
     "metadata": {},
     "output_type": "execute_result"
    }
   ],
   "source": [
    "data"
   ]
  },
  {
   "cell_type": "markdown",
   "metadata": {},
   "source": [
    "Let us set the index for Date"
   ]
  },
  {
   "cell_type": "code",
   "execution_count": 16,
   "metadata": {},
   "outputs": [
    {
     "data": {
      "text/plain": [
       "DatetimeIndex(['2005-01-01', '2005-01-02', '2005-01-03', '2005-01-04',\n",
       "               '2005-01-05', '2005-01-06', '2005-01-07', '2005-01-08',\n",
       "               '2005-01-09', '2005-01-10',\n",
       "               ...\n",
       "               '2016-12-22', '2016-12-23', '2016-12-24', '2016-12-25',\n",
       "               '2016-12-26', '2016-12-27', '2016-12-28', '2016-12-29',\n",
       "               '2016-12-30', '2016-12-31'],\n",
       "              dtype='datetime64[ns]', name='Date', length=4383, freq=None)"
      ]
     },
     "execution_count": 16,
     "metadata": {},
     "output_type": "execute_result"
    }
   ],
   "source": [
    "Sales_y= data.set_index('Date')\n",
    "Sales_y.index"
   ]
  },
  {
   "cell_type": "code",
   "execution_count": 17,
   "metadata": {},
   "outputs": [
    {
     "data": {
      "text/html": [
       "<div>\n",
       "<style scoped>\n",
       "    .dataframe tbody tr th:only-of-type {\n",
       "        vertical-align: middle;\n",
       "    }\n",
       "\n",
       "    .dataframe tbody tr th {\n",
       "        vertical-align: top;\n",
       "    }\n",
       "\n",
       "    .dataframe thead th {\n",
       "        text-align: right;\n",
       "    }\n",
       "</style>\n",
       "<table border=\"1\" class=\"dataframe\">\n",
       "  <thead>\n",
       "    <tr style=\"text-align: right;\">\n",
       "      <th></th>\n",
       "      <th>Total_Sales</th>\n",
       "    </tr>\n",
       "    <tr>\n",
       "      <th>Date</th>\n",
       "      <th></th>\n",
       "    </tr>\n",
       "  </thead>\n",
       "  <tbody>\n",
       "    <tr>\n",
       "      <th>2005-01-01</th>\n",
       "      <td>275.5</td>\n",
       "    </tr>\n",
       "    <tr>\n",
       "      <th>2005-01-02</th>\n",
       "      <td>275.5</td>\n",
       "    </tr>\n",
       "    <tr>\n",
       "      <th>2005-01-03</th>\n",
       "      <td>278.6</td>\n",
       "    </tr>\n",
       "    <tr>\n",
       "      <th>2005-01-04</th>\n",
       "      <td>279.3</td>\n",
       "    </tr>\n",
       "    <tr>\n",
       "      <th>2005-01-05</th>\n",
       "      <td>281.4</td>\n",
       "    </tr>\n",
       "    <tr>\n",
       "      <th>...</th>\n",
       "      <td>...</td>\n",
       "    </tr>\n",
       "    <tr>\n",
       "      <th>2016-12-27</th>\n",
       "      <td>288.4</td>\n",
       "    </tr>\n",
       "    <tr>\n",
       "      <th>2016-12-28</th>\n",
       "      <td>283.3</td>\n",
       "    </tr>\n",
       "    <tr>\n",
       "      <th>2016-12-29</th>\n",
       "      <td>281.7</td>\n",
       "    </tr>\n",
       "    <tr>\n",
       "      <th>2016-12-30</th>\n",
       "      <td>282.0</td>\n",
       "    </tr>\n",
       "    <tr>\n",
       "      <th>2016-12-31</th>\n",
       "      <td>281.9</td>\n",
       "    </tr>\n",
       "  </tbody>\n",
       "</table>\n",
       "<p>4383 rows × 1 columns</p>\n",
       "</div>"
      ],
      "text/plain": [
       "            Total_Sales\n",
       "Date                   \n",
       "2005-01-01        275.5\n",
       "2005-01-02        275.5\n",
       "2005-01-03        278.6\n",
       "2005-01-04        279.3\n",
       "2005-01-05        281.4\n",
       "...                 ...\n",
       "2016-12-27        288.4\n",
       "2016-12-28        283.3\n",
       "2016-12-29        281.7\n",
       "2016-12-30        282.0\n",
       "2016-12-31        281.9\n",
       "\n",
       "[4383 rows x 1 columns]"
      ]
     },
     "execution_count": 17,
     "metadata": {},
     "output_type": "execute_result"
    }
   ],
   "source": [
    "Sales_y"
   ]
  },
  {
   "cell_type": "code",
   "execution_count": 18,
   "metadata": {},
   "outputs": [],
   "source": [
    "#Making a copy of the data before feature scaling\n",
    "Sales=Sales_y.copy()"
   ]
  },
  {
   "cell_type": "code",
   "execution_count": 19,
   "metadata": {},
   "outputs": [
    {
     "data": {
      "text/plain": [
       "(4383, 1)"
      ]
     },
     "execution_count": 19,
     "metadata": {},
     "output_type": "execute_result"
    }
   ],
   "source": [
    "Sales_y.shape"
   ]
  },
  {
   "cell_type": "code",
   "execution_count": 20,
   "metadata": {},
   "outputs": [],
   "source": [
    "import tensorflow as tf"
   ]
  },
  {
   "cell_type": "code",
   "execution_count": 21,
   "metadata": {},
   "outputs": [
    {
     "data": {
      "text/plain": [
       "'2.5.0'"
      ]
     },
     "execution_count": 21,
     "metadata": {},
     "output_type": "execute_result"
    }
   ],
   "source": [
    "tf.__version__"
   ]
  },
  {
   "cell_type": "code",
   "execution_count": 22,
   "metadata": {},
   "outputs": [
    {
     "name": "stderr",
     "output_type": "stream",
     "text": [
      "Using TensorFlow backend.\n"
     ]
    }
   ],
   "source": [
    "import keras"
   ]
  },
  {
   "cell_type": "code",
   "execution_count": 23,
   "metadata": {},
   "outputs": [
    {
     "data": {
      "text/plain": [
       "'2.2.4'"
      ]
     },
     "execution_count": 23,
     "metadata": {},
     "output_type": "execute_result"
    }
   ],
   "source": [
    "keras.__version__"
   ]
  },
  {
   "cell_type": "markdown",
   "metadata": {},
   "source": [
    "### Selecting average daily sales for prediction\n",
    "we will use the averages daily sales value for that month , and we are using the start of each month as the timestamp."
   ]
  },
  {
   "cell_type": "raw",
   "metadata": {},
   "source": [
    "y = Sales_furniture['Sales'].resample('MS').mean()"
   ]
  },
  {
   "cell_type": "raw",
   "metadata": {},
   "source": [
    "y"
   ]
  },
  {
   "cell_type": "markdown",
   "metadata": {},
   "source": [
    "### Data Visualization"
   ]
  },
  {
   "cell_type": "code",
   "execution_count": 24,
   "metadata": {},
   "outputs": [
    {
     "data": {
      "image/png": "[encoded data removed]",
      "text/plain": [
       "<Figure size 432x288 with 1 Axes>"
      ]
     },
     "metadata": {
      "needs_background": "light"
     },
     "output_type": "display_data"
    }
   ],
   "source": [
    "\n",
    "# Plotting Given Data\n",
    "plt.plot(Sales_y, color = 'violet')\n",
    "plt.title('SALES FROM 2005 TO 2016')\n",
    "plt.xlabel('Days')\n",
    "plt.ylabel('Sales')\n",
    "plt.show()"
   ]
  },
  {
   "cell_type": "code",
   "execution_count": 25,
   "metadata": {},
   "outputs": [],
   "source": [
    "#we will use the averages daily sales value for that month , and we are using the start of each month as the timestamp.\n",
    "monthly_sales = Sales_y['Total_Sales'].resample('MS').mean()"
   ]
  },
  {
   "cell_type": "code",
   "execution_count": 26,
   "metadata": {},
   "outputs": [
    {
     "data": {
      "image/png": "[encoded data removed]",
      "text/plain": [
       "<Figure size 1080x432 with 1 Axes>"
      ]
     },
     "metadata": {
      "needs_background": "light"
     },
     "output_type": "display_data"
    }
   ],
   "source": [
    "monthly_sales.plot(figsize=(15, 6))\n",
    "plt.show()"
   ]
  },
  {
   "cell_type": "markdown",
   "metadata": {},
   "source": [
    "We notice that the time-series has seasonality pattern, such as sales are always low at the beginning of the year and high at the end of the year. There is always an upward trend within any single year with a couple of low months in the mid of the year."
   ]
  },
  {
   "cell_type": "markdown",
   "metadata": {},
   "source": [
    "Time series analysis provides a body of techniques to better understand a dataset.\n",
    "Perhaps the most useful of these is the decomposition of a time series into 4 constituent parts:\n",
    "\n",
    "1.Level. The baseline value for the series if it were a straight line.\n",
    "2.Trend. The optional and often linear increasing or decreasing behavior of the series over time.\n",
    "3.Seasonality. The optional repeating patterns or cycles of behavior over time.\n",
    "4.Noise. The optional variability in the observations that cannot be explained by the model.\n",
    "\n",
    "Let us visualize our data using the above method that allows us to decompose our time series data"
   ]
  },
  {
   "cell_type": "code",
   "execution_count": 27,
   "metadata": {},
   "outputs": [
    {
     "data": {
      "image/png": "[encoded data removed]",
      "text/plain": [
       "<Figure size 1296x576 with 4 Axes>"
      ]
     },
     "metadata": {
      "needs_background": "light"
     },
     "output_type": "display_data"
    }
   ],
   "source": [
    "from pylab import rcParams\n",
    "rcParams['figure.figsize'] = 18, 8\n",
    "\n",
    "decomposition = sm.tsa.seasonal_decompose(monthly_sales, model='additive')\n",
    "fig = decomposition.plot()\n",
    "plt.show()"
   ]
  },
  {
   "cell_type": "markdown",
   "metadata": {},
   "source": [
    "From the above plot, we notice that the sales is following a seasonality"
   ]
  },
  {
   "cell_type": "markdown",
   "metadata": {},
   "source": [
    "### Feature Scaling"
   ]
  },
  {
   "cell_type": "code",
   "execution_count": 28,
   "metadata": {},
   "outputs": [],
   "source": [
    "### LSTM are sensitive to the scale of the data. so we apply MinMax scaler"
   ]
  },
  {
   "cell_type": "code",
   "execution_count": 29,
   "metadata": {},
   "outputs": [],
   "source": [
    "#Featuring Scaling\n",
    "from sklearn.preprocessing import MinMaxScaler\n",
    "scaler=MinMaxScaler(feature_range=(0,1))\n",
    "Sales_y=scaler.fit_transform(np.array(Sales_y).reshape(-1,1))"
   ]
  },
  {
   "cell_type": "code",
   "execution_count": 30,
   "metadata": {},
   "outputs": [],
   "source": [
    "import pickle\n",
    "pickle.dump(scaler,open(\"Scaler_f.pkl\",\"wb\"))"
   ]
  },
  {
   "cell_type": "code",
   "execution_count": 31,
   "metadata": {},
   "outputs": [
    {
     "data": {
      "text/plain": [
       "(4383, 1)"
      ]
     },
     "execution_count": 31,
     "metadata": {},
     "output_type": "execute_result"
    }
   ],
   "source": [
    "Sales_y.shape"
   ]
  },
  {
   "cell_type": "markdown",
   "metadata": {},
   "source": [
    "### splitting dataset into train and test split"
   ]
  },
  {
   "cell_type": "code",
   "execution_count": 32,
   "metadata": {},
   "outputs": [],
   "source": [
    "\n",
    "training_size=int(len(Sales_y)*0.63)\n",
    "test_size=len(Sales_y)-training_size\n",
    "train_data,test_data=Sales_y[0:training_size,:],Sales_y[training_size:len(Sales_y),:1]\n"
   ]
  },
  {
   "cell_type": "code",
   "execution_count": 33,
   "metadata": {},
   "outputs": [
    {
     "data": {
      "text/plain": [
       "(2761, 1622)"
      ]
     },
     "execution_count": 33,
     "metadata": {},
     "output_type": "execute_result"
    }
   ],
   "source": [
    "training_size,test_size\n"
   ]
  },
  {
   "cell_type": "code",
   "execution_count": 34,
   "metadata": {},
   "outputs": [
    {
     "data": {
      "text/plain": [
       "array([[0.87264457],\n",
       "       [0.87264457],\n",
       "       [0.87667316],\n",
       "       ...,\n",
       "       [0.96166342],\n",
       "       [0.96920078],\n",
       "       [0.97076023]])"
      ]
     },
     "execution_count": 34,
     "metadata": {},
     "output_type": "execute_result"
    }
   ],
   "source": [
    "train_data"
   ]
  },
  {
   "cell_type": "code",
   "execution_count": 35,
   "metadata": {},
   "outputs": [
    {
     "data": {
      "text/plain": [
       "(2761, 1)"
      ]
     },
     "execution_count": 35,
     "metadata": {},
     "output_type": "execute_result"
    }
   ],
   "source": [
    "train_data.shape"
   ]
  },
  {
   "cell_type": "code",
   "execution_count": 36,
   "metadata": {},
   "outputs": [],
   "source": [
    "\n",
    "# convert an array of values into a dataset matrix\n",
    "def create_dataset(dataset, time_step=1):\n",
    "\tdataX, dataY = [], []\n",
    "\tfor i in range(len(dataset)-time_step-1):\n",
    "\t\ta = dataset[i:(i+time_step), 0]   ###i=0, 0,1,2,3-----99   100 \n",
    "\t\tdataX.append(a)\n",
    "\t\tdataY.append(dataset[i + time_step, 0])\n",
    "\treturn np.array(dataX), np.array(dataY)"
   ]
  },
  {
   "cell_type": "code",
   "execution_count": 37,
   "metadata": {},
   "outputs": [],
   "source": [
    "# reshape into X=t,t+1,t+2,t+3 and Y=t+4\n",
    "time_step = 10# considering last year for forecasting\n",
    "X_train, y_train = create_dataset(train_data, time_step)\n",
    "X_test, ytest = create_dataset(test_data, time_step)"
   ]
  },
  {
   "cell_type": "code",
   "execution_count": 38,
   "metadata": {},
   "outputs": [
    {
     "name": "stdout",
     "output_type": "stream",
     "text": [
      "(2750, 10)\n",
      "(2750,)\n"
     ]
    },
    {
     "data": {
      "text/plain": [
       "(None, None)"
      ]
     },
     "execution_count": 38,
     "metadata": {},
     "output_type": "execute_result"
    }
   ],
   "source": [
    "print(X_train.shape), print(y_train.shape)\n"
   ]
  },
  {
   "cell_type": "code",
   "execution_count": 39,
   "metadata": {},
   "outputs": [
    {
     "name": "stdout",
     "output_type": "stream",
     "text": [
      "(1611, 10)\n",
      "(1611,)\n"
     ]
    },
    {
     "data": {
      "text/plain": [
       "(None, None)"
      ]
     },
     "execution_count": 39,
     "metadata": {},
     "output_type": "execute_result"
    }
   ],
   "source": [
    "print(X_test.shape), print(ytest.shape)"
   ]
  },
  {
   "cell_type": "code",
   "execution_count": 40,
   "metadata": {},
   "outputs": [
    {
     "data": {
      "text/plain": [
       "array([[0.87264457, 0.87264457, 0.87667316, ..., 0.87238467, 0.87576348,\n",
       "        0.87407407],\n",
       "       [0.87264457, 0.87667316, 0.87758285, ..., 0.87576348, 0.87407407,\n",
       "        0.8705653 ],\n",
       "       [0.87667316, 0.87758285, 0.88031189, ..., 0.87407407, 0.8705653 ,\n",
       "        0.86211826],\n",
       "       ...,\n",
       "       [0.96075374, 0.95477583, 0.95243665, ..., 0.96647173, 0.96283301,\n",
       "        0.96608187],\n",
       "       [0.95477583, 0.95243665, 0.95620533, ..., 0.96283301, 0.96608187,\n",
       "        0.96595192],\n",
       "       [0.95243665, 0.95620533, 0.95607537, ..., 0.96608187, 0.96595192,\n",
       "        0.96166342]])"
      ]
     },
     "execution_count": 40,
     "metadata": {},
     "output_type": "execute_result"
    }
   ],
   "source": [
    "X_train"
   ]
  },
  {
   "cell_type": "code",
   "execution_count": 41,
   "metadata": {},
   "outputs": [
    {
     "data": {
      "text/plain": [
       "array([0.8705653 , 0.86211826, 0.87355426, ..., 0.96595192, 0.96166342,\n",
       "       0.96920078])"
      ]
     },
     "execution_count": 41,
     "metadata": {},
     "output_type": "execute_result"
    }
   ],
   "source": [
    "y_train"
   ]
  },
  {
   "cell_type": "code",
   "execution_count": 42,
   "metadata": {},
   "outputs": [
    {
     "data": {
      "text/plain": [
       "array([[0.96673164, 0.96166342, 0.96036387, ..., 0.95022742, 0.95659519,\n",
       "        0.96790123],\n",
       "       [0.96166342, 0.96036387, 0.95763483, ..., 0.95659519, 0.96790123,\n",
       "        0.95815465],\n",
       "       [0.96036387, 0.95763483, 0.9568551 , ..., 0.96790123, 0.95815465,\n",
       "        0.95087719],\n",
       "       ...,\n",
       "       [0.88849903, 0.88823912, 0.89382716, ..., 0.88148148, 0.89148798,\n",
       "        0.88940871],\n",
       "       [0.88823912, 0.89382716, 0.89304743, ..., 0.89148798, 0.88940871,\n",
       "        0.88278103],\n",
       "       [0.89382716, 0.89304743, 0.88576998, ..., 0.88940871, 0.88278103,\n",
       "        0.88070175]])"
      ]
     },
     "execution_count": 42,
     "metadata": {},
     "output_type": "execute_result"
    }
   ],
   "source": [
    "X_test"
   ]
  },
  {
   "cell_type": "code",
   "execution_count": 43,
   "metadata": {},
   "outputs": [],
   "source": [
    "# reshape input to be [samples, time steps, features] which is required for LSTM\n",
    "X_train =X_train.reshape(X_train.shape[0],X_train.shape[1],1)\n",
    "X_test = X_test.reshape(X_test.shape[0],X_test.shape[1],1)"
   ]
  },
  {
   "cell_type": "code",
   "execution_count": 44,
   "metadata": {},
   "outputs": [
    {
     "data": {
      "text/plain": [
       "(2750, 10)"
      ]
     },
     "execution_count": 44,
     "metadata": {},
     "output_type": "execute_result"
    }
   ],
   "source": [
    "X_train.shape[0],X_train.shape[1]"
   ]
  },
  {
   "cell_type": "markdown",
   "metadata": {},
   "source": [
    "## Create the Stacked LSTM model"
   ]
  },
  {
   "cell_type": "code",
   "execution_count": 45,
   "metadata": {},
   "outputs": [],
   "source": [
    "#tensorflow :open source used for both ML and DL for computation\n",
    "from tensorflow.keras.models import Sequential#it is a plain stack of layers\n",
    "from tensorflow.keras.layers import Dense#Dense layer is the regular deeply connected neural network layer\n",
    "from tensorflow.keras.layers import LSTM #Long Short Trem Memory"
   ]
  },
  {
   "cell_type": "code",
   "execution_count": 46,
   "metadata": {},
   "outputs": [],
   "source": [
    "model=Sequential()\n",
    "model.add(LSTM(50,return_sequences=True,input_shape=(10,1)))\n",
    "model.add(LSTM(50,return_sequences=True))\n",
    "model.add(LSTM(50))\n",
    "model.add(Dense(1))\n",
    "model.compile(loss='mean_squared_error',optimizer='adam')"
   ]
  },
  {
   "cell_type": "code",
   "execution_count": 47,
   "metadata": {},
   "outputs": [
    {
     "name": "stdout",
     "output_type": "stream",
     "text": [
      "Model: \"sequential\"\n",
      "_________________________________________________________________\n",
      "Layer (type)                 Output Shape              Param #   \n",
      "=================================================================\n",
      "lstm (LSTM)                  (None, 10, 50)            10400     \n",
      "_________________________________________________________________\n",
      "lstm_1 (LSTM)                (None, 10, 50)            20200     \n",
      "_________________________________________________________________\n",
      "lstm_2 (LSTM)                (None, 50)                20200     \n",
      "_________________________________________________________________\n",
      "dense (Dense)                (None, 1)                 51        \n",
      "=================================================================\n",
      "Total params: 50,851\n",
      "Trainable params: 50,851\n",
      "Non-trainable params: 0\n",
      "_________________________________________________________________\n"
     ]
    }
   ],
   "source": [
    "model.summary()"
   ]
  },
  {
   "cell_type": "code",
   "execution_count": 48,
   "metadata": {},
   "outputs": [
    {
     "name": "stdout",
     "output_type": "stream",
     "text": [
      "Epoch 1/200\n",
      "43/43 [==============================] - 10s 52ms/step - loss: 0.1210 - val_loss: 0.0049\n",
      "Epoch 2/200\n",
      "43/43 [==============================] - 1s 19ms/step - loss: 0.0026 - val_loss: 0.0028\n",
      "Epoch 3/200\n",
      "43/43 [==============================] - 1s 20ms/step - loss: 0.0019 - val_loss: 0.0028\n",
      "Epoch 4/200\n",
      "43/43 [==============================] - 1s 25ms/step - loss: 0.0019 - val_loss: 0.0028\n",
      "Epoch 5/200\n",
      "43/43 [==============================] - 1s 26ms/step - loss: 0.0019 - val_loss: 0.0028\n",
      "Epoch 6/200\n",
      "43/43 [==============================] - 1s 26ms/step - loss: 0.0019 - val_loss: 0.0028\n",
      "Epoch 7/200\n",
      "43/43 [==============================] - 1s 27ms/step - loss: 0.0020 - val_loss: 0.0028\n",
      "Epoch 8/200\n",
      "43/43 [==============================] - 1s 24ms/step - loss: 0.0019 - val_loss: 0.0028\n",
      "Epoch 9/200\n",
      "43/43 [==============================] - 1s 24ms/step - loss: 0.0020 - val_loss: 0.0029\n",
      "Epoch 10/200\n",
      "43/43 [==============================] - 1s 24ms/step - loss: 0.0020 - val_loss: 0.0029\n",
      "Epoch 11/200\n",
      "43/43 [==============================] - 1s 24ms/step - loss: 0.0019 - val_loss: 0.0028\n",
      "Epoch 12/200\n",
      "43/43 [==============================] - 1s 25ms/step - loss: 0.0019 - val_loss: 0.0028\n",
      "Epoch 13/200\n",
      "43/43 [==============================] - 1s 27ms/step - loss: 0.0019 - val_loss: 0.0028\n",
      "Epoch 14/200\n",
      "43/43 [==============================] - 1s 25ms/step - loss: 0.0019 - val_loss: 0.0028\n",
      "Epoch 15/200\n",
      "43/43 [==============================] - 1s 24ms/step - loss: 0.0019 - val_loss: 0.0028\n",
      "Epoch 16/200\n",
      "43/43 [==============================] - 1s 25ms/step - loss: 0.0020 - val_loss: 0.0028\n",
      "Epoch 17/200\n",
      "43/43 [==============================] - 1s 25ms/step - loss: 0.0019 - val_loss: 0.0028\n",
      "Epoch 18/200\n",
      "43/43 [==============================] - 1s 26ms/step - loss: 0.0019 - val_loss: 0.0031\n",
      "Epoch 19/200\n",
      "43/43 [==============================] - 1s 25ms/step - loss: 0.0020 - val_loss: 0.0031\n",
      "Epoch 20/200\n",
      "43/43 [==============================] - 1s 26ms/step - loss: 0.0020 - val_loss: 0.0027\n",
      "Epoch 21/200\n",
      "43/43 [==============================] - 1s 26ms/step - loss: 0.0019 - val_loss: 0.0027\n",
      "Epoch 22/200\n",
      "43/43 [==============================] - 1s 25ms/step - loss: 0.0019 - val_loss: 0.0029\n",
      "Epoch 23/200\n",
      "43/43 [==============================] - 1s 25ms/step - loss: 0.0019 - val_loss: 0.0028\n",
      "Epoch 24/200\n",
      "43/43 [==============================] - 1s 27ms/step - loss: 0.0019 - val_loss: 0.0028\n",
      "Epoch 25/200\n",
      "43/43 [==============================] - 1s 25ms/step - loss: 0.0020 - val_loss: 0.0027\n",
      "Epoch 26/200\n",
      "43/43 [==============================] - 1s 26ms/step - loss: 0.0019 - val_loss: 0.0028\n",
      "Epoch 27/200\n",
      "43/43 [==============================] - 1s 25ms/step - loss: 0.0019 - val_loss: 0.0031\n",
      "Epoch 28/200\n",
      "43/43 [==============================] - 1s 26ms/step - loss: 0.0020 - val_loss: 0.0027\n",
      "Epoch 29/200\n",
      "43/43 [==============================] - 1s 26ms/step - loss: 0.0019 - val_loss: 0.0027\n",
      "Epoch 30/200\n",
      "43/43 [==============================] - 1s 27ms/step - loss: 0.0019 - val_loss: 0.0027\n",
      "Epoch 31/200\n",
      "43/43 [==============================] - 1s 27ms/step - loss: 0.0019 - val_loss: 0.0028\n",
      "Epoch 32/200\n",
      "43/43 [==============================] - 1s 26ms/step - loss: 0.0019 - val_loss: 0.0028\n",
      "Epoch 33/200\n",
      "43/43 [==============================] - 1s 27ms/step - loss: 0.0019 - val_loss: 0.0028\n",
      "Epoch 34/200\n",
      "43/43 [==============================] - 1s 26ms/step - loss: 0.0020 - val_loss: 0.0028\n",
      "Epoch 35/200\n",
      "43/43 [==============================] - 1s 27ms/step - loss: 0.0019 - val_loss: 0.0028\n",
      "Epoch 36/200\n",
      "43/43 [==============================] - 1s 30ms/step - loss: 0.0019 - val_loss: 0.0027\n",
      "Epoch 37/200\n",
      "43/43 [==============================] - 1s 30ms/step - loss: 0.0019 - val_loss: 0.0028\n",
      "Epoch 38/200\n",
      "43/43 [==============================] - 1s 26ms/step - loss: 0.0019 - val_loss: 0.0027\n",
      "Epoch 39/200\n",
      "43/43 [==============================] - 1s 26ms/step - loss: 0.0019 - val_loss: 0.0028\n",
      "Epoch 40/200\n",
      "43/43 [==============================] - 1s 26ms/step - loss: 0.0019 - val_loss: 0.0027\n",
      "Epoch 41/200\n",
      "43/43 [==============================] - 1s 27ms/step - loss: 0.0020 - val_loss: 0.0028\n",
      "Epoch 42/200\n",
      "43/43 [==============================] - 1s 26ms/step - loss: 0.0020 - val_loss: 0.0028\n",
      "Epoch 43/200\n",
      "43/43 [==============================] - 1s 27ms/step - loss: 0.0019 - val_loss: 0.0027\n",
      "Epoch 44/200\n",
      "43/43 [==============================] - 1s 26ms/step - loss: 0.0019 - val_loss: 0.0027\n",
      "Epoch 45/200\n",
      "43/43 [==============================] - 1s 26ms/step - loss: 0.0019 - val_loss: 0.0027\n",
      "Epoch 46/200\n",
      "43/43 [==============================] - 1s 26ms/step - loss: 0.0019 - val_loss: 0.0027\n",
      "Epoch 47/200\n",
      "43/43 [==============================] - 1s 26ms/step - loss: 0.0019 - val_loss: 0.0027\n",
      "Epoch 48/200\n",
      "43/43 [==============================] - 1s 27ms/step - loss: 0.0019 - val_loss: 0.0028\n",
      "Epoch 49/200\n",
      "43/43 [==============================] - 1s 26ms/step - loss: 0.0019 - val_loss: 0.0027\n",
      "Epoch 50/200\n",
      "43/43 [==============================] - 1s 27ms/step - loss: 0.0020 - val_loss: 0.0028\n",
      "Epoch 51/200\n",
      "43/43 [==============================] - 1s 27ms/step - loss: 0.0020 - val_loss: 0.0027\n",
      "Epoch 52/200\n",
      "43/43 [==============================] - 1s 26ms/step - loss: 0.0020 - val_loss: 0.0027\n",
      "Epoch 53/200\n",
      "43/43 [==============================] - 1s 27ms/step - loss: 0.0020 - val_loss: 0.0027\n",
      "Epoch 54/200\n",
      "43/43 [==============================] - 1s 28ms/step - loss: 0.0019 - val_loss: 0.0028\n",
      "Epoch 55/200\n",
      "43/43 [==============================] - 1s 26ms/step - loss: 0.0019 - val_loss: 0.0027\n",
      "Epoch 56/200\n",
      "43/43 [==============================] - 1s 27ms/step - loss: 0.0019 - val_loss: 0.0027\n",
      "Epoch 57/200\n",
      "43/43 [==============================] - 1s 30ms/step - loss: 0.0019 - val_loss: 0.0027\n",
      "Epoch 58/200\n",
      "43/43 [==============================] - 1s 30ms/step - loss: 0.0019 - val_loss: 0.0027\n",
      "Epoch 59/200\n",
      "43/43 [==============================] - 1s 30ms/step - loss: 0.0019 - val_loss: 0.0033\n",
      "Epoch 60/200\n",
      "43/43 [==============================] - 1s 29ms/step - loss: 0.0019 - val_loss: 0.0028\n",
      "Epoch 61/200\n",
      "43/43 [==============================] - 1s 28ms/step - loss: 0.0019 - val_loss: 0.0032\n",
      "Epoch 62/200\n",
      "43/43 [==============================] - 1s 27ms/step - loss: 0.0023 - val_loss: 0.0029\n",
      "Epoch 63/200\n",
      "43/43 [==============================] - 1s 27ms/step - loss: 0.0021 - val_loss: 0.0027\n",
      "Epoch 64/200\n",
      "43/43 [==============================] - 1s 27ms/step - loss: 0.0021 - val_loss: 0.0029\n",
      "Epoch 65/200\n",
      "43/43 [==============================] - 1s 27ms/step - loss: 0.0019 - val_loss: 0.0029\n",
      "Epoch 66/200\n",
      "43/43 [==============================] - 1s 27ms/step - loss: 0.0019 - val_loss: 0.0028\n",
      "Epoch 67/200\n",
      "43/43 [==============================] - 1s 28ms/step - loss: 0.0020 - val_loss: 0.0027\n",
      "Epoch 68/200\n",
      "43/43 [==============================] - 1s 26ms/step - loss: 0.0021 - val_loss: 0.0027\n",
      "Epoch 69/200\n",
      "43/43 [==============================] - 1s 26ms/step - loss: 0.0019 - val_loss: 0.0027\n",
      "Epoch 70/200\n",
      "43/43 [==============================] - 1s 28ms/step - loss: 0.0020 - val_loss: 0.0027\n",
      "Epoch 71/200\n",
      "43/43 [==============================] - 1s 32ms/step - loss: 0.0019 - val_loss: 0.0028\n",
      "Epoch 72/200\n",
      "43/43 [==============================] - 1s 29ms/step - loss: 0.0019 - val_loss: 0.0027\n",
      "Epoch 73/200\n",
      "43/43 [==============================] - 1s 31ms/step - loss: 0.0019 - val_loss: 0.0029\n",
      "Epoch 74/200\n",
      "43/43 [==============================] - 1s 30ms/step - loss: 0.0020 - val_loss: 0.0032\n",
      "Epoch 75/200\n",
      "43/43 [==============================] - 1s 30ms/step - loss: 0.0020 - val_loss: 0.0029\n",
      "Epoch 76/200\n",
      "43/43 [==============================] - 1s 28ms/step - loss: 0.0018 - val_loss: 0.0028\n",
      "Epoch 77/200\n",
      "43/43 [==============================] - 1s 28ms/step - loss: 0.0019 - val_loss: 0.0027\n",
      "Epoch 78/200\n",
      "43/43 [==============================] - 1s 28ms/step - loss: 0.0019 - val_loss: 0.0027\n",
      "Epoch 79/200\n",
      "43/43 [==============================] - 1s 27ms/step - loss: 0.0019 - val_loss: 0.0027\n",
      "Epoch 80/200\n",
      "43/43 [==============================] - 1s 27ms/step - loss: 0.0019 - val_loss: 0.0027\n",
      "Epoch 81/200\n",
      "43/43 [==============================] - 1s 26ms/step - loss: 0.0019 - val_loss: 0.0027\n",
      "Epoch 82/200\n"
     ]
    },
    {
     "name": "stdout",
     "output_type": "stream",
     "text": [
      "43/43 [==============================] - 1s 28ms/step - loss: 0.0019 - val_loss: 0.0038\n",
      "Epoch 83/200\n",
      "43/43 [==============================] - 1s 26ms/step - loss: 0.0020 - val_loss: 0.0027\n",
      "Epoch 84/200\n",
      "43/43 [==============================] - 1s 27ms/step - loss: 0.0019 - val_loss: 0.0027\n",
      "Epoch 85/200\n",
      "43/43 [==============================] - 1s 28ms/step - loss: 0.0019 - val_loss: 0.0029\n",
      "Epoch 86/200\n",
      "43/43 [==============================] - 1s 26ms/step - loss: 0.0021 - val_loss: 0.0029\n",
      "Epoch 87/200\n",
      "43/43 [==============================] - 1s 27ms/step - loss: 0.0019 - val_loss: 0.0027\n",
      "Epoch 88/200\n",
      "43/43 [==============================] - 1s 27ms/step - loss: 0.0019 - val_loss: 0.0028\n",
      "Epoch 89/200\n",
      "43/43 [==============================] - 1s 26ms/step - loss: 0.0019 - val_loss: 0.0027\n",
      "Epoch 90/200\n",
      "43/43 [==============================] - 1s 26ms/step - loss: 0.0020 - val_loss: 0.0027\n",
      "Epoch 91/200\n",
      "43/43 [==============================] - 1s 27ms/step - loss: 0.0019 - val_loss: 0.0028\n",
      "Epoch 92/200\n",
      "43/43 [==============================] - 1s 27ms/step - loss: 0.0019 - val_loss: 0.0027\n",
      "Epoch 93/200\n",
      "43/43 [==============================] - 1s 26ms/step - loss: 0.0019 - val_loss: 0.0028\n",
      "Epoch 94/200\n",
      "43/43 [==============================] - 1s 26ms/step - loss: 0.0019 - val_loss: 0.0027\n",
      "Epoch 95/200\n",
      "43/43 [==============================] - 1s 27ms/step - loss: 0.0019 - val_loss: 0.0027\n",
      "Epoch 96/200\n",
      "43/43 [==============================] - 1s 26ms/step - loss: 0.0021 - val_loss: 0.0028\n",
      "Epoch 97/200\n",
      "43/43 [==============================] - 1s 27ms/step - loss: 0.0019 - val_loss: 0.0033\n",
      "Epoch 98/200\n",
      "43/43 [==============================] - 1s 26ms/step - loss: 0.0020 - val_loss: 0.0027\n",
      "Epoch 99/200\n",
      "43/43 [==============================] - 1s 26ms/step - loss: 0.0019 - val_loss: 0.0027\n",
      "Epoch 100/200\n",
      "43/43 [==============================] - 1s 27ms/step - loss: 0.0019 - val_loss: 0.0027\n",
      "Epoch 101/200\n",
      "43/43 [==============================] - 1s 28ms/step - loss: 0.0020 - val_loss: 0.0027\n",
      "Epoch 102/200\n",
      "43/43 [==============================] - 1s 27ms/step - loss: 0.0019 - val_loss: 0.0027\n",
      "Epoch 103/200\n",
      "43/43 [==============================] - 1s 27ms/step - loss: 0.0019 - val_loss: 0.0029\n",
      "Epoch 104/200\n",
      "43/43 [==============================] - 1s 27ms/step - loss: 0.0019 - val_loss: 0.0027\n",
      "Epoch 105/200\n",
      "43/43 [==============================] - 1s 26ms/step - loss: 0.0019 - val_loss: 0.0027\n",
      "Epoch 106/200\n",
      "43/43 [==============================] - 1s 26ms/step - loss: 0.0018 - val_loss: 0.0027\n",
      "Epoch 107/200\n",
      "43/43 [==============================] - 1s 28ms/step - loss: 0.0019 - val_loss: 0.0027\n",
      "Epoch 108/200\n",
      "43/43 [==============================] - 1s 31ms/step - loss: 0.0019 - val_loss: 0.0027\n",
      "Epoch 109/200\n",
      "43/43 [==============================] - 1s 31ms/step - loss: 0.0018 - val_loss: 0.0027\n",
      "Epoch 110/200\n",
      "43/43 [==============================] - 1s 31ms/step - loss: 0.0019 - val_loss: 0.0027\n",
      "Epoch 111/200\n",
      "43/43 [==============================] - 1s 29ms/step - loss: 0.0018 - val_loss: 0.0027\n",
      "Epoch 112/200\n",
      "43/43 [==============================] - 1s 28ms/step - loss: 0.0019 - val_loss: 0.0031\n",
      "Epoch 113/200\n",
      "43/43 [==============================] - 1s 27ms/step - loss: 0.0021 - val_loss: 0.0027\n",
      "Epoch 114/200\n",
      "43/43 [==============================] - 1s 28ms/step - loss: 0.0019 - val_loss: 0.0027\n",
      "Epoch 115/200\n",
      "43/43 [==============================] - 1s 27ms/step - loss: 0.0018 - val_loss: 0.0027\n",
      "Epoch 116/200\n",
      "43/43 [==============================] - 1s 26ms/step - loss: 0.0019 - val_loss: 0.0026\n",
      "Epoch 117/200\n",
      "43/43 [==============================] - 1s 28ms/step - loss: 0.0020 - val_loss: 0.0031\n",
      "Epoch 118/200\n",
      "43/43 [==============================] - 1s 27ms/step - loss: 0.0021 - val_loss: 0.0029\n",
      "Epoch 119/200\n",
      "43/43 [==============================] - 1s 28ms/step - loss: 0.0019 - val_loss: 0.0028\n",
      "Epoch 120/200\n",
      "43/43 [==============================] - 1s 26ms/step - loss: 0.0019 - val_loss: 0.0034\n",
      "Epoch 121/200\n",
      "43/43 [==============================] - 1s 27ms/step - loss: 0.0020 - val_loss: 0.0031\n",
      "Epoch 122/200\n",
      "43/43 [==============================] - 1s 27ms/step - loss: 0.0020 - val_loss: 0.0032\n",
      "Epoch 123/200\n",
      "43/43 [==============================] - 1s 30ms/step - loss: 0.0020 - val_loss: 0.0028\n",
      "Epoch 124/200\n",
      "43/43 [==============================] - 1s 27ms/step - loss: 0.0019 - val_loss: 0.0028\n",
      "Epoch 125/200\n",
      "43/43 [==============================] - 1s 28ms/step - loss: 0.0020 - val_loss: 0.0031\n",
      "Epoch 126/200\n",
      "43/43 [==============================] - 1s 28ms/step - loss: 0.0019 - val_loss: 0.0027\n",
      "Epoch 127/200\n",
      "43/43 [==============================] - 1s 28ms/step - loss: 0.0019 - val_loss: 0.0028\n",
      "Epoch 128/200\n",
      "43/43 [==============================] - 1s 27ms/step - loss: 0.0018 - val_loss: 0.0027\n",
      "Epoch 129/200\n",
      "43/43 [==============================] - 1s 27ms/step - loss: 0.0018 - val_loss: 0.0028\n",
      "Epoch 130/200\n",
      "43/43 [==============================] - 1s 28ms/step - loss: 0.0019 - val_loss: 0.0026\n",
      "Epoch 131/200\n",
      "43/43 [==============================] - 1s 29ms/step - loss: 0.0018 - val_loss: 0.0026\n",
      "Epoch 132/200\n",
      "43/43 [==============================] - 1s 28ms/step - loss: 0.0018 - val_loss: 0.0027\n",
      "Epoch 133/200\n",
      "43/43 [==============================] - 1s 28ms/step - loss: 0.0019 - val_loss: 0.0027\n",
      "Epoch 134/200\n",
      "43/43 [==============================] - 1s 27ms/step - loss: 0.0018 - val_loss: 0.0026\n",
      "Epoch 135/200\n",
      "43/43 [==============================] - 1s 28ms/step - loss: 0.0019 - val_loss: 0.0027\n",
      "Epoch 136/200\n",
      "43/43 [==============================] - 1s 28ms/step - loss: 0.0021 - val_loss: 0.0028\n",
      "Epoch 137/200\n",
      "43/43 [==============================] - 1s 27ms/step - loss: 0.0018 - val_loss: 0.0026\n",
      "Epoch 138/200\n",
      "43/43 [==============================] - 1s 27ms/step - loss: 0.0019 - val_loss: 0.0028\n",
      "Epoch 139/200\n",
      "43/43 [==============================] - 1s 27ms/step - loss: 0.0018 - val_loss: 0.0026\n",
      "Epoch 140/200\n",
      "43/43 [==============================] - 1s 27ms/step - loss: 0.0018 - val_loss: 0.0026\n",
      "Epoch 141/200\n",
      "43/43 [==============================] - 1s 29ms/step - loss: 0.0018 - val_loss: 0.0031\n",
      "Epoch 142/200\n",
      "43/43 [==============================] - 1s 27ms/step - loss: 0.0018 - val_loss: 0.0026\n",
      "Epoch 143/200\n",
      "43/43 [==============================] - 1s 28ms/step - loss: 0.0018 - val_loss: 0.0027\n",
      "Epoch 144/200\n",
      "43/43 [==============================] - 1s 27ms/step - loss: 0.0019 - val_loss: 0.0028\n",
      "Epoch 145/200\n",
      "43/43 [==============================] - 1s 26ms/step - loss: 0.0018 - val_loss: 0.0026\n",
      "Epoch 146/200\n",
      "43/43 [==============================] - 1s 27ms/step - loss: 0.0018 - val_loss: 0.0026\n",
      "Epoch 147/200\n",
      "43/43 [==============================] - 1s 31ms/step - loss: 0.0019 - val_loss: 0.0027\n",
      "Epoch 148/200\n",
      "43/43 [==============================] - 1s 29ms/step - loss: 0.0019 - val_loss: 0.0027\n",
      "Epoch 149/200\n",
      "43/43 [==============================] - 1s 30ms/step - loss: 0.0020 - val_loss: 0.0030\n",
      "Epoch 150/200\n",
      "43/43 [==============================] - 1s 30ms/step - loss: 0.0019 - val_loss: 0.0026\n",
      "Epoch 151/200\n",
      "43/43 [==============================] - 1s 31ms/step - loss: 0.0018 - val_loss: 0.0027\n",
      "Epoch 152/200\n",
      "43/43 [==============================] - 1s 29ms/step - loss: 0.0018 - val_loss: 0.0026\n",
      "Epoch 153/200\n",
      "43/43 [==============================] - 1s 29ms/step - loss: 0.0019 - val_loss: 0.0026\n",
      "Epoch 154/200\n",
      "43/43 [==============================] - 1s 28ms/step - loss: 0.0019 - val_loss: 0.0027\n",
      "Epoch 155/200\n",
      "43/43 [==============================] - 1s 27ms/step - loss: 0.0018 - val_loss: 0.0026\n",
      "Epoch 156/200\n",
      "43/43 [==============================] - 1s 27ms/step - loss: 0.0017 - val_loss: 0.0026\n",
      "Epoch 157/200\n",
      "43/43 [==============================] - 1s 33ms/step - loss: 0.0018 - val_loss: 0.0029\n",
      "Epoch 158/200\n",
      "43/43 [==============================] - 1s 32ms/step - loss: 0.0018 - val_loss: 0.0031\n",
      "Epoch 159/200\n",
      "43/43 [==============================] - 1s 32ms/step - loss: 0.0018 - val_loss: 0.0031\n",
      "Epoch 160/200\n",
      "43/43 [==============================] - 1s 33ms/step - loss: 0.0018 - val_loss: 0.0027\n",
      "Epoch 161/200\n",
      "43/43 [==============================] - 1s 29ms/step - loss: 0.0018 - val_loss: 0.0026\n",
      "Epoch 162/200\n"
     ]
    },
    {
     "name": "stdout",
     "output_type": "stream",
     "text": [
      "43/43 [==============================] - 1s 28ms/step - loss: 0.0019 - val_loss: 0.0026\n",
      "Epoch 163/200\n",
      "43/43 [==============================] - 1s 26ms/step - loss: 0.0018 - val_loss: 0.0027\n",
      "Epoch 164/200\n",
      "43/43 [==============================] - 1s 27ms/step - loss: 0.0018 - val_loss: 0.0028\n",
      "Epoch 165/200\n",
      "43/43 [==============================] - 1s 27ms/step - loss: 0.0019 - val_loss: 0.0026\n",
      "Epoch 166/200\n",
      "43/43 [==============================] - 1s 27ms/step - loss: 0.0018 - val_loss: 0.0028\n",
      "Epoch 167/200\n",
      "43/43 [==============================] - 1s 26ms/step - loss: 0.0018 - val_loss: 0.0026\n",
      "Epoch 168/200\n",
      "43/43 [==============================] - 1s 28ms/step - loss: 0.0018 - val_loss: 0.0026\n",
      "Epoch 169/200\n",
      "43/43 [==============================] - 1s 28ms/step - loss: 0.0019 - val_loss: 0.0027\n",
      "Epoch 170/200\n",
      "43/43 [==============================] - 1s 31ms/step - loss: 0.0018 - val_loss: 0.0026\n",
      "Epoch 171/200\n",
      "43/43 [==============================] - 1s 30ms/step - loss: 0.0018 - val_loss: 0.0027\n",
      "Epoch 172/200\n",
      "43/43 [==============================] - 1s 28ms/step - loss: 0.0019 - val_loss: 0.0026\n",
      "Epoch 173/200\n",
      "43/43 [==============================] - 1s 31ms/step - loss: 0.0018 - val_loss: 0.0033\n",
      "Epoch 174/200\n",
      "43/43 [==============================] - 1s 29ms/step - loss: 0.0018 - val_loss: 0.0026\n",
      "Epoch 175/200\n",
      "43/43 [==============================] - 1s 30ms/step - loss: 0.0017 - val_loss: 0.0028\n",
      "Epoch 176/200\n",
      "43/43 [==============================] - 1s 30ms/step - loss: 0.0020 - val_loss: 0.0026\n",
      "Epoch 177/200\n",
      "43/43 [==============================] - 1s 31ms/step - loss: 0.0018 - val_loss: 0.0028\n",
      "Epoch 178/200\n",
      "43/43 [==============================] - 1s 30ms/step - loss: 0.0017 - val_loss: 0.0026\n",
      "Epoch 179/200\n",
      "43/43 [==============================] - 1s 30ms/step - loss: 0.0018 - val_loss: 0.0026\n",
      "Epoch 180/200\n",
      "43/43 [==============================] - 1s 30ms/step - loss: 0.0018 - val_loss: 0.0026\n",
      "Epoch 181/200\n",
      "43/43 [==============================] - 1s 28ms/step - loss: 0.0018 - val_loss: 0.0026\n",
      "Epoch 182/200\n",
      "43/43 [==============================] - 1s 29ms/step - loss: 0.0018 - val_loss: 0.0027\n",
      "Epoch 183/200\n",
      "43/43 [==============================] - 1s 28ms/step - loss: 0.0019 - val_loss: 0.0028\n",
      "Epoch 184/200\n",
      "43/43 [==============================] - 1s 29ms/step - loss: 0.0018 - val_loss: 0.0026\n",
      "Epoch 185/200\n",
      "43/43 [==============================] - 1s 28ms/step - loss: 0.0018 - val_loss: 0.0027\n",
      "Epoch 186/200\n",
      "43/43 [==============================] - 1s 29ms/step - loss: 0.0018 - val_loss: 0.0026\n",
      "Epoch 187/200\n",
      "43/43 [==============================] - 1s 30ms/step - loss: 0.0018 - val_loss: 0.0027\n",
      "Epoch 188/200\n",
      "43/43 [==============================] - 1s 27ms/step - loss: 0.0019 - val_loss: 0.0026\n",
      "Epoch 189/200\n",
      "43/43 [==============================] - 1s 27ms/step - loss: 0.0017 - val_loss: 0.0026\n",
      "Epoch 190/200\n",
      "43/43 [==============================] - 1s 28ms/step - loss: 0.0017 - val_loss: 0.0027\n",
      "Epoch 191/200\n",
      "43/43 [==============================] - 1s 27ms/step - loss: 0.0017 - val_loss: 0.0026\n",
      "Epoch 192/200\n",
      "43/43 [==============================] - 1s 29ms/step - loss: 0.0018 - val_loss: 0.0026\n",
      "Epoch 193/200\n",
      "43/43 [==============================] - 1s 28ms/step - loss: 0.0018 - val_loss: 0.0027\n",
      "Epoch 194/200\n",
      "43/43 [==============================] - 1s 28ms/step - loss: 0.0017 - val_loss: 0.0026\n",
      "Epoch 195/200\n",
      "43/43 [==============================] - 1s 28ms/step - loss: 0.0018 - val_loss: 0.0026\n",
      "Epoch 196/200\n",
      "43/43 [==============================] - 1s 30ms/step - loss: 0.0017 - val_loss: 0.0027\n",
      "Epoch 197/200\n",
      "43/43 [==============================] - 1s 29ms/step - loss: 0.0017 - val_loss: 0.0026\n",
      "Epoch 198/200\n",
      "43/43 [==============================] - 1s 29ms/step - loss: 0.0017 - val_loss: 0.0026\n",
      "Epoch 199/200\n",
      "43/43 [==============================] - 1s 28ms/step - loss: 0.0017 - val_loss: 0.0026\n",
      "Epoch 200/200\n",
      "43/43 [==============================] - 1s 29ms/step - loss: 0.0017 - val_loss: 0.0026\n"
     ]
    },
    {
     "data": {
      "text/plain": [
       "<tensorflow.python.keras.callbacks.History at 0x1a8f9182910>"
      ]
     },
     "execution_count": 48,
     "metadata": {},
     "output_type": "execute_result"
    }
   ],
   "source": [
    "#Training the model\n",
    "model.fit(X_train,y_train,validation_data=(X_test,ytest),epochs=200,batch_size=64,verbose=1)"
   ]
  },
  {
   "cell_type": "code",
   "execution_count": 49,
   "metadata": {},
   "outputs": [],
   "source": [
    "## Lets Do the prediction and check performance metrics\n",
    "train_predict=model.predict(X_train)\n",
    "test_predict=model.predict(X_test)\n"
   ]
  },
  {
   "cell_type": "code",
   "execution_count": 50,
   "metadata": {},
   "outputs": [],
   "source": [
    "\n",
    "##Transformback to original form\n",
    "train_predict=scaler.inverse_transform(train_predict)\n",
    "test_predict=scaler.inverse_transform(test_predict)\n"
   ]
  },
  {
   "cell_type": "code",
   "execution_count": 51,
   "metadata": {},
   "outputs": [
    {
     "data": {
      "text/plain": [
       "array([0.95815465, 0.95087719, 0.95997401, 0.95555556, 0.95412606])"
      ]
     },
     "execution_count": 51,
     "metadata": {},
     "output_type": "execute_result"
    }
   ],
   "source": [
    "ytest[0:5]"
   ]
  },
  {
   "cell_type": "code",
   "execution_count": 52,
   "metadata": {},
   "outputs": [],
   "source": [
    "y_pred = model.predict(X_test,batch_size=1)"
   ]
  },
  {
   "cell_type": "code",
   "execution_count": 53,
   "metadata": {},
   "outputs": [
    {
     "data": {
      "text/plain": [
       "array([[0.9629297 ],\n",
       "       [0.96120435],\n",
       "       [0.95851237],\n",
       "       [0.95995164],\n",
       "       [0.95928216]], dtype=float32)"
      ]
     },
     "execution_count": 53,
     "metadata": {},
     "output_type": "execute_result"
    }
   ],
   "source": [
    "y_pred[0:5]"
   ]
  },
  {
   "cell_type": "markdown",
   "metadata": {},
   "source": [
    "### model evaluation"
   ]
  },
  {
   "cell_type": "code",
   "execution_count": 54,
   "metadata": {},
   "outputs": [
    {
     "data": {
      "text/plain": [
       "325.0659917492567"
      ]
     },
     "execution_count": 54,
     "metadata": {},
     "output_type": "execute_result"
    }
   ],
   "source": [
    "### Calculate RMSE performance metrics\n",
    "import math\n",
    "from sklearn.metrics import mean_squared_error\n",
    "math.sqrt(mean_squared_error(y_train,train_predict))"
   ]
  },
  {
   "cell_type": "code",
   "execution_count": 55,
   "metadata": {},
   "outputs": [
    {
     "data": {
      "text/plain": [
       "326.4700655636478"
      ]
     },
     "execution_count": 55,
     "metadata": {},
     "output_type": "execute_result"
    }
   ],
   "source": [
    "### Test Data RMSE\n",
    "math.sqrt(mean_squared_error(ytest,test_predict))"
   ]
  },
  {
   "cell_type": "markdown",
   "metadata": {},
   "source": [
    "## Predict the train and test data and plot the output"
   ]
  },
  {
   "cell_type": "code",
   "execution_count": 56,
   "metadata": {},
   "outputs": [
    {
     "data": {
      "image/png": "[encoded data removed]",
      "text/plain": [
       "<Figure size 1296x576 with 1 Axes>"
      ]
     },
     "metadata": {
      "needs_background": "light"
     },
     "output_type": "display_data"
    }
   ],
   "source": [
    "### Plotting \n",
    "# shift train predictions for plotting\n",
    "look_back=10\n",
    "trainPredictPlot = np.empty_like(Sales_y)\n",
    "trainPredictPlot[:, :] = np.nan\n",
    "trainPredictPlot[look_back:len(train_predict)+look_back, :] = train_predict\n",
    "# shift test predictions for plotting\n",
    "testPredictPlot = np.empty_like(Sales_y)\n",
    "testPredictPlot[:, :] = np.nan\n",
    "testPredictPlot[len(train_predict)+(look_back*2)+1:len(Sales_y)-1, :] = test_predict\n",
    "# plot baseline and predictions\n",
    "plt.plot(scaler.inverse_transform(Sales_y))\n",
    "plt.plot(trainPredictPlot)\n",
    "plt.plot(testPredictPlot)\n",
    "plt.show()"
   ]
  },
  {
   "cell_type": "code",
   "execution_count": 57,
   "metadata": {},
   "outputs": [],
   "source": [
    "#Save the model\n",
    "model.save(\"sales_f.h5\")\n"
   ]
  },
  {
   "cell_type": "code",
   "execution_count": 58,
   "metadata": {},
   "outputs": [],
   "source": [
    "#prediction for next 10 days"
   ]
  },
  {
   "cell_type": "code",
   "execution_count": 59,
   "metadata": {},
   "outputs": [
    {
     "data": {
      "text/plain": [
       "4383"
      ]
     },
     "execution_count": 59,
     "metadata": {},
     "output_type": "execute_result"
    }
   ],
   "source": [
    "len(Sales)"
   ]
  },
  {
   "cell_type": "code",
   "execution_count": 60,
   "metadata": {},
   "outputs": [],
   "source": [
    "Sales=np.array(Sales)"
   ]
  },
  {
   "cell_type": "code",
   "execution_count": null,
   "metadata": {},
   "outputs": [],
   "source": []
  },
  {
   "cell_type": "code",
   "execution_count": 61,
   "metadata": {},
   "outputs": [
    {
     "data": {
      "text/plain": [
       "(1, 10)"
      ]
     },
     "execution_count": 61,
     "metadata": {},
     "output_type": "execute_result"
    }
   ],
   "source": [
    "x_input=Sales[4372:4382].reshape(1,-1)\n",
    "x_input.shape"
   ]
  },
  {
   "cell_type": "code",
   "execution_count": 62,
   "metadata": {},
   "outputs": [
    {
     "data": {
      "text/plain": [
       "array([[291.2, 285.6, 285.3, 286.2, 282.3, 290. , 288.4, 283.3, 281.7,\n",
       "        282. ]])"
      ]
     },
     "execution_count": 62,
     "metadata": {},
     "output_type": "execute_result"
    }
   ],
   "source": [
    "x_input"
   ]
  },
  {
   "cell_type": "code",
   "execution_count": 63,
   "metadata": {},
   "outputs": [
    {
     "data": {
      "text/plain": [
       "1622"
      ]
     },
     "execution_count": 63,
     "metadata": {},
     "output_type": "execute_result"
    }
   ],
   "source": [
    "len(test_data)"
   ]
  },
  {
   "cell_type": "raw",
   "metadata": {},
   "source": [
    "x_input=test_data[1612:].reshape(1,-1)\n",
    "x_input.shape"
   ]
  },
  {
   "cell_type": "code",
   "execution_count": 64,
   "metadata": {},
   "outputs": [],
   "source": [
    "\n",
    "temp_input=list(x_input)\n",
    "temp_input=temp_input[0].tolist()"
   ]
  },
  {
   "cell_type": "code",
   "execution_count": 65,
   "metadata": {},
   "outputs": [
    {
     "data": {
      "text/plain": [
       "[291.20000000000005,\n",
       " 285.6,\n",
       " 285.3,\n",
       " 286.2,\n",
       " 282.3,\n",
       " 290.0,\n",
       " 288.4,\n",
       " 283.3,\n",
       " 281.7,\n",
       " 282.0]"
      ]
     },
     "execution_count": 65,
     "metadata": {},
     "output_type": "execute_result"
    }
   ],
   "source": [
    "temp_input"
   ]
  },
  {
   "cell_type": "code",
   "execution_count": 66,
   "metadata": {},
   "outputs": [
    {
     "data": {
      "text/plain": [
       "10"
      ]
     },
     "execution_count": 66,
     "metadata": {},
     "output_type": "execute_result"
    }
   ],
   "source": [
    "len(temp_input)"
   ]
  },
  {
   "cell_type": "markdown",
   "metadata": {},
   "source": [
    "### Predict the future 10 days "
   ]
  },
  {
   "cell_type": "code",
   "execution_count": 73,
   "metadata": {},
   "outputs": [
    {
     "name": "stdout",
     "output_type": "stream",
     "text": [
      "0 day input [294.18624878 296.9369812  299.08758545 300.84292603 302.35446167\n",
      " 303.95614624 305.32019043 306.78991699 308.53903198 310.46029663]\n",
      "0 day output [[312.46017]]\n",
      "1 day input [296.9369812  299.08758545 300.84292603 302.35446167 303.95614624\n",
      " 305.32019043 306.78991699 308.53903198 310.46029663 312.46017456]\n",
      "1 day output [[314.0575]]\n",
      "2 day input [299.08758545 300.84292603 302.35446167 303.95614624 305.32019043\n",
      " 306.78991699 308.53903198 310.46029663 312.46017456 314.05749512]\n",
      "2 day output [[315.52634]]\n",
      "3 day input [300.84292603 302.35446167 303.95614624 305.32019043 306.78991699\n",
      " 308.53903198 310.46029663 312.46017456 314.05749512 315.52633667]\n",
      "3 day output [[316.9084]]\n",
      "4 day input [302.35446167 303.95614624 305.32019043 306.78991699 308.53903198\n",
      " 310.46029663 312.46017456 314.05749512 315.52633667 316.90838623]\n",
      "4 day output [[318.23422]]\n",
      "5 day input [303.95614624 305.32019043 306.78991699 308.53903198 310.46029663\n",
      " 312.46017456 314.05749512 315.52633667 316.90838623 318.23422241]\n",
      "5 day output [[319.5256]]\n",
      "6 day input [305.32019043 306.78991699 308.53903198 310.46029663 312.46017456\n",
      " 314.05749512 315.52633667 316.90838623 318.23422241 319.52560425]\n",
      "6 day output [[320.78558]]\n",
      "7 day input [306.78991699 308.53903198 310.46029663 312.46017456 314.05749512\n",
      " 315.52633667 316.90838623 318.23422241 319.52560425 320.7855835 ]\n",
      "7 day output [[322.0242]]\n",
      "8 day input [308.53903198 310.46029663 312.46017456 314.05749512 315.52633667\n",
      " 316.90838623 318.23422241 319.52560425 320.7855835  322.02420044]\n",
      "8 day output [[323.2376]]\n",
      "9 day input [310.46029663 312.46017456 314.05749512 315.52633667 316.90838623\n",
      " 318.23422241 319.52560425 320.7855835  322.02420044 323.23760986]\n",
      "9 day output [[324.41202]]\n"
     ]
    }
   ],
   "source": [
    "# demonstrate prediction for next 10 days\n",
    "from numpy import array\n",
    "lst_output=[]\n",
    "n_steps=10\n",
    "i=0\n",
    "while(i<10):\n",
    "    \n",
    "    if(len(temp_input)>=10):\n",
    "        #print(\"temp_input\",temp_input)\n",
    "        x_input=np.array(temp_input[0:])\n",
    "        print(\"{} day input {}\".format(i,x_input))\n",
    "        x_input=np.expand_dims(x_input, axis=1)\n",
    "        x_input=scaler.transform(x_input)\n",
    "        x_input = x_input.reshape((1, n_steps, 1))\n",
    "        yhat = model.predict(x_input, verbose=0)\n",
    "        yhat=scaler.inverse_transform(yhat)\n",
    "        print(\"{} day output {}\".format(i,yhat))\n",
    "        temp_input.extend(yhat[0].tolist())\n",
    "        temp_input=temp_input[1:]\n",
    "        #print(temp_input)\n",
    "        lst_output.extend(yhat.tolist())\n",
    "        i=i+1\n",
    "    else:\n",
    "        print(\"Please give 10 number of inputs\")"
   ]
  },
  {
   "cell_type": "code",
   "execution_count": null,
   "metadata": {},
   "outputs": [],
   "source": [
    "day_new=np.arange(1,11)\n",
    "day_pred=np.arange(11,21)"
   ]
  },
  {
   "cell_type": "code",
   "execution_count": null,
   "metadata": {},
   "outputs": [],
   "source": [
    "len(Sales_y)"
   ]
  },
  {
   "cell_type": "code",
   "execution_count": null,
   "metadata": {},
   "outputs": [],
   "source": []
  },
  {
   "cell_type": "code",
   "execution_count": null,
   "metadata": {},
   "outputs": [],
   "source": []
  }
 ],
 "metadata": {
  "kernelspec": {
   "display_name": "Python 3 (ipykernel)",
   "language": "python",
   "name": "python3"
  },
  "language_info": {
   "codemirror_mode": {
    "name": "ipython",
    "version": 3
   },
   "file_extension": ".py",
   "mimetype": "text/x-python",
   "name": "python",
   "nbconvert_exporter": "python",
   "pygments_lexer": "ipython3",
   "version": "3.8.10"
  }
 },
 "nbformat": 4,
 "nbformat_minor": 4
}
